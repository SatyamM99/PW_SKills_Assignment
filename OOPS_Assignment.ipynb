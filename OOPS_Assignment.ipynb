{
  "nbformat": 4,
  "nbformat_minor": 0,
  "metadata": {
    "colab": {
      "provenance": []
    },
    "kernelspec": {
      "name": "python3",
      "display_name": "Python 3"
    },
    "language_info": {
      "name": "python"
    }
  },
  "cells": [
    {
      "cell_type": "markdown",
      "source": [
        "1. What is Object-Oriented Programming (OOP)?\n",
        "\n",
        "OOP is a programming approach that organizes code around objects rather than functions or logic. These objects are instances of classes and can contain both data and methods.\n",
        "\n",
        "2. What is a class in OOP?\n",
        "\n",
        "A class is a blueprint or a template for creating objects. It defines a set of attributes (data) and methods (functions) that all objects created from it will have.\n",
        "\n",
        "3. What is an object in OOP?\n",
        "\n",
        "An object is a specific instance of a class. When you create an object, you are creating a concrete entity that follows the structure defined by its class blueprint.\n",
        "\n",
        "4. What is the difference between abstraction and encapsulation?\n",
        "\n",
        "Abstraction focuses on hiding the complex implementation details and showing only the essential features of an object. Encapsulation is the practice of bundling the data and the methods that operate on that data into a single unit (the class).\n",
        "\n",
        "5. What are dunder methods in Python?\n",
        "\n",
        "Dunder methods are special methods with names that start and end with double underscores, such as __init__ or __str__. They allow you to define how your objects behave with built-in functions and operators.\n",
        "\n",
        "6. Explain the concept of inheritance in OOP.\n",
        "\n",
        "Inheritance is a mechanism where a new class (child class) is created from an existing class (parent class). The child class automatically inherits all the attributes and methods of the parent class, which helps with code reuse.\n",
        "\n",
        "7. What is polymorphism in OOP?\n",
        "\n",
        "Polymorphism means \"many forms.\" It is the ability of different objects to respond to the same method call in their own unique way. This allows you to write more generic and flexible code.\n",
        "\n",
        "8. How is encapsulation achieved in Python?\n",
        "\n",
        "Python achieves encapsulation by convention. Developers use a single leading underscore (_variable) to indicate an attribute is intended for internal use and a double leading underscore (__variable) for name mangling, which makes it harder to access the attribute directly from outside the class.\n",
        "\n",
        "9. What is a constructor in Python?\n",
        "\n",
        "A constructor is a special method named __init__. It is automatically called when a new object is created and is used to initialize the object's attributes.\n",
        "\n",
        "10. What are class and static methods in Python?\n",
        "\n",
        "A class method is a method bound to the class, not the instance, and receives the class itself as its first argument (cls). A static method is a method that belongs to the class's namespace but does not receive an implicit first argument (self or cls) and is used for utility functions related to the class.\n",
        "\n",
        "11. What is method overloading in Python?\n",
        "\n",
        "Python does not support traditional method overloading where multiple methods have the same name with different parameters. The last defined method with a given name will always overwrite any previous definitions.\n",
        "\n",
        "12. What is method overriding in OOP?\n",
        "\n",
        "Method overriding is when a subclass provides a specific implementation for a method that is already defined in its parent class. This allows the child class to change or extend the behavior of the inherited method.\n",
        "\n",
        "13. What is a property decorator in Python?\n",
        "\n",
        "The @property decorator is used to turn a class method into a read-only attribute. It allows you to define getter, setter, and deleter methods for an attribute, providing a more \"Pythonic\" way to control access to it.\n",
        "\n",
        "14. Why is polymorphism important in OOP?\n",
        "\n",
        "Polymorphism allows for flexible and loosely coupled code. By writing code that can work with any object from a hierarchy of classes, you can create systems that are easier to extend and maintain without having to modify existing code.\n",
        "\n",
        "15. What is an abstract class in Python?\n",
        "\n",
        "An abstract class is a class that cannot be instantiated on its own. It is designed to be a blueprint for other classes, often containing abstract methods that must be implemented by any concrete subclass.\n",
        "\n",
        "16. What are the advantages of OOP?\n",
        "\n",
        "The main advantages of OOP are: modularity (code is organized into self-contained units), reusability (inheritance allows for sharing code), maintainability (it's easier to debug and update), and flexibility (polymorphism makes code more adaptable).\n",
        "\n",
        "17. What is the difference between a class variable and an instance variable?\n",
        "\n",
        "A class variable is shared by all instances of a class. An instance variable is unique to each specific object and is not shared with other instances of the same class.\n",
        "\n",
        "18. What is multiple inheritance in Python?\n",
        "\n",
        "Multiple inheritance is a feature where a class can inherit from more than one parent class. This means the child class will inherit all the attributes and methods from all of its parent classes.\n",
        "\n",
        "19. Explain the purpose of __str__ and __repr__ methods in Python.\n",
        "\n",
        "The __str__ method provides a human-readable string representation of an object, typically used for printing. The __repr__ method provides an \"official\" string representation that is unambiguous and used for debugging and development.\n",
        "\n",
        "20. What is the significance of the super() function in Python?\n",
        "\n",
        "The super() function allows a subclass to call a method from its parent class. It is most commonly used in the subclass's constructor (__init__) to call the parent's constructor, ensuring that the parent's attributes are also properly initialized.\n",
        "\n",
        "21. What is the significance of the __del__ method in Python?\n",
        "\n",
        "The __del__ method, or destructor, is a special method called when an object is about to be destroyed or garbage collected. It's rarely used because Python's garbage collection is automatic, but it can be used for cleanup tasks like closing files.\n",
        "\n",
        "22. What is the difference between @staticmethod and @classmethod in Python?\n",
        "\n",
        "A @classmethod receives the class (cls) as its first argument and is useful for operations that need to interact with the class itself, such as creating factory methods. A @staticmethod receives no special first argument and is a simple function logically grouped with the class, but it cannot access the class or its instances.\n",
        "\n",
        "23. How does polymorphism work in Python with inheritance?\n",
        "\n",
        "With inheritance, polymorphism allows a function to accept a parent class object and still work correctly with any of its child class objects, as long as they implement the necessary methods. This is often called \"duck typing,\" as the function only cares about what the object can do, not what type it is.\n",
        "\n",
        "24. What is method chaining in Python OOP?\n",
        "\n",
        "Method chaining is a technique where a series of method calls are made on the same object, one after another. This is possible when each method returns the object itself (return self), allowing the next method call to be chained to the result.\n",
        "\n",
        "25. What is the purpose of the __call__ method in Python?\n",
        "\n",
        "The __call__ method makes an object callable, meaning you can use the object instance with parentheses as if it were a function. The code inside this method will be executed when the object is called."
      ],
      "metadata": {
        "id": "2gRmqRVbSAjA"
      }
    },
    {
      "cell_type": "code",
      "source": [
        "# 1. Parent & Child Class Example\n",
        "class Animal:\n",
        "  def speak(self):\n",
        "    print(\"Some generic sound\")\n",
        "\n",
        "class Dog(Animal):\n",
        "  def speak(self):\n",
        "    print(\"Bark!\")"
      ],
      "metadata": {
        "id": "BMlkxGH2SSbV"
      },
      "execution_count": 3,
      "outputs": []
    },
    {
      "cell_type": "code",
      "source": [
        "# 2. Abstract Class Shape\n",
        "from abc import ABC, abstractmethod\n",
        "class Shape(ABC):\n",
        "  @abstractmethod\n",
        "  def area(self):\n",
        "    pass\n",
        "\n",
        "class Circle(Shape):\n",
        "  def __init__(self, radius):\n",
        "    self.radius = radius\n",
        "  def area(self):\n",
        "    return 3.14 * self.radius * self.radius\n",
        "\n",
        "class Rectangle(Shape):\n",
        "  def __init__(self, width, height):\n",
        "    self.width = width\n",
        "    self.height = height\n",
        "  def area(self):\n",
        "    return self.width * self.height"
      ],
      "metadata": {
        "id": "DIGcfCR-Setx"
      },
      "execution_count": 4,
      "outputs": []
    },
    {
      "cell_type": "code",
      "source": [
        "class Vehicle:\n",
        "  def __init__(self, type):\n",
        "    self.type = type\n",
        "\n",
        "class Car(Vehicle):\n",
        "  def __init__(self, type, brand):\n",
        "    super().__init__(type)\n",
        "    self.brand = brand\n",
        "\n",
        "class ElectricCar(Car):\n",
        "  def __init__(self, type, brand, battery):\n",
        "    super().__init__(type, brand)\n",
        "    self.battery = battery"
      ],
      "metadata": {
        "id": "kb-ASCK6S7_r"
      },
      "execution_count": 5,
      "outputs": []
    },
    {
      "cell_type": "code",
      "source": [
        "# 4. Polymorphism with Bird\n",
        "class Bird:\n",
        "  def fly(self):\n",
        "    print(\"Some birds can fly.\")\n",
        "\n",
        "class Sparrow(Bird):\n",
        "  def fly(self):\n",
        "    print(\"Sparrow flying.\")\n",
        "\n",
        "class Penguin(Bird):\n",
        "  def fly(self):\n",
        "    print(\"Penguins cannot fly.\")"
      ],
      "metadata": {
        "id": "nBcXgJXOTIvm"
      },
      "execution_count": 6,
      "outputs": []
    },
    {
      "cell_type": "code",
      "source": [
        "# 5. Encapsulation BankAccount\n",
        "class BankAccount:\n",
        "  def __init__(self, balance=0):\n",
        "    self.__balance = balance\n",
        "  def deposit(self, amount):\n",
        "    self.__balance += amount\n",
        "  def withdraw(self, amount):\n",
        "    if amount <= self.__balance:\n",
        "      self.__balance -= amount\n",
        "  def get_balance(self):\n",
        "    return self.__balance"
      ],
      "metadata": {
        "id": "Kc9KENZ2TRyF"
      },
      "execution_count": 7,
      "outputs": []
    },
    {
      "cell_type": "code",
      "source": [
        "# 6. Runtime Polymorphism\n",
        "class Instrument:\n",
        "  def play(self):\n",
        "    print(\"Playing instrument\")\n",
        "\n",
        "class Guitar(Instrument):\n",
        "  def play(self):\n",
        "    print(\"Playing guitar\")\n",
        "\n",
        "class Piano(Instrument):\n",
        "  def play(self):\n",
        "    print(\"Playing piano\")"
      ],
      "metadata": {
        "id": "IKkhLMa7TgZX"
      },
      "execution_count": 8,
      "outputs": []
    },
    {
      "cell_type": "code",
      "source": [
        "# 7. Class and Static Methods\n",
        "class MathOperations:\n",
        "  @classmethod\n",
        "  def add_numbers(cls, a, b):\n",
        "    return a + b\n",
        "  @staticmethod\n",
        "  def subtract_numbers(a, b):\n",
        "    return a - b"
      ],
      "metadata": {
        "id": "DC6ALkyuTpCP"
      },
      "execution_count": 9,
      "outputs": []
    },
    {
      "cell_type": "code",
      "source": [
        "# 8. Count Persons\n",
        "class Person:\n",
        "  count = 0\n",
        "  def __init__(self, name):\n",
        "    self.name = name\n",
        "    Person.count += 1\n",
        "  @classmethod\n",
        "  def total_persons(cls):\n",
        "    return cls.count"
      ],
      "metadata": {
        "id": "7bW1at5jTx5y"
      },
      "execution_count": 10,
      "outputs": []
    },
    {
      "cell_type": "code",
      "source": [
        "# 9. Fraction\n",
        "class Fraction:\n",
        "  def __init__(self, numerator, denominator):\n",
        "    self.numerator = numerator\n",
        "    self.denominator = denominator\n",
        "  def __str__(self):\n",
        "    return f\"{self.numerator}/{self.denominator}\""
      ],
      "metadata": {
        "id": "-qCpEkcET8YV"
      },
      "execution_count": 11,
      "outputs": []
    },
    {
      "cell_type": "code",
      "source": [
        "# 10. Operator Overloading Vector\n",
        "class Vector:\n",
        "  def __init__(self, x, y):\n",
        "    self.x = x\n",
        "    self.y = y\n",
        "  def __add__(self, other):\n",
        "    return Vector(self.x + other.x, self.y + other.y)"
      ],
      "metadata": {
        "id": "OyiA1YPGUrSd"
      },
      "execution_count": 12,
      "outputs": []
    },
    {
      "cell_type": "code",
      "source": [
        "# 11. Person with greet\n",
        "class Person2:\n",
        "  def __init__(self, name, age):\n",
        "    self.name = name\n",
        "    self.age = age\n",
        "  def greet(self):\n",
        "    print(f\"Hello, my name is {self.name} and I am {self.age} years old.\")"
      ],
      "metadata": {
        "id": "wCYMPgjPUzAL"
      },
      "execution_count": 13,
      "outputs": []
    },
    {
      "cell_type": "code",
      "source": [
        "# 12. Student average grade\n",
        "class Student:\n",
        "  def __init__(self, name, grades):\n",
        "    self.name = name\n",
        "    self.grades = grades\n",
        "  def average_grade(self):\n",
        "    return sum(self.grades) / len(self.grades)"
      ],
      "metadata": {
        "id": "ep--D4ymU7K1"
      },
      "execution_count": 14,
      "outputs": []
    },
    {
      "cell_type": "code",
      "source": [
        "# 13. Rectangle\n",
        "class Rectangle2:\n",
        "  def set_dimensions(self, width, height):\n",
        "    self.width = width\n",
        "    self.height = height\n",
        "  def area(self):\n",
        "    return self.width * self.height"
      ],
      "metadata": {
        "id": "aL6ftnuoVBuf"
      },
      "execution_count": 15,
      "outputs": []
    },
    {
      "cell_type": "code",
      "source": [
        "# 14. Employee & Manager\n",
        "class Employee:\n",
        "  def calculate_salary(self, hours, rate):\n",
        "    return hours * rate\n",
        "class Manager(Employee):\n",
        "  def calculate_salary(self, hours, rate, bonus):\n",
        "    return super().calculate_salary(hours, rate) + bonus"
      ],
      "metadata": {
        "id": "npoRm7CnVH0x"
      },
      "execution_count": 16,
      "outputs": []
    },
    {
      "cell_type": "code",
      "source": [
        "# 15. Product total price\n",
        "class Product:\n",
        "  def __init__(self, name, price, quantity):\n",
        "    self.name = name\n",
        "    self.price = price\n",
        "    self.quantity = quantity\n",
        "  def total_price(self):\n",
        "    return self.price * self.quantity"
      ],
      "metadata": {
        "id": "N1IJifrtVNM6"
      },
      "execution_count": 17,
      "outputs": []
    },
    {
      "cell_type": "code",
      "source": [
        "# 16. Animal abstract sound\n",
        "class Animal2(ABC):\n",
        "  @abstractmethod\n",
        "  def sound(self):\n",
        "    pass\n",
        "class Cow(Animal2):\n",
        "  def sound(self):\n",
        "    print(\"Moo\")\n",
        "class Sheep(Animal2):\n",
        "  def sound(self):\n",
        "    print(\"Baa\")"
      ],
      "metadata": {
        "id": "kVlkTYRGVS_S"
      },
      "execution_count": 18,
      "outputs": []
    },
    {
      "cell_type": "code",
      "source": [
        "# 17. Book info\n",
        "class Book:\n",
        "  def __init__(self, title, author, year_published):\n",
        "    self.title = title\n",
        "    self.author = author\n",
        "    self.year_published = year_published\n",
        "  def get_book_info(self):\n",
        "    return f\"{self.title} by {self.author}, {self.year_published}\""
      ],
      "metadata": {
        "id": "QcX62_nsVZ8J"
      },
      "execution_count": 19,
      "outputs": []
    },
    {
      "cell_type": "code",
      "source": [
        "# 18. House & Mansion\n",
        "class House:\n",
        "  def __init__(self, address, price):\n",
        "    self.address = address\n",
        "    self.price = price\n",
        "\n",
        "class Mansion(House):\n",
        "  def __init__(self, address, price, rooms):\n",
        "    super().__init__(address, price)\n",
        "    self.rooms = rooms\n"
      ],
      "metadata": {
        "id": "PkGC0B-RVhZ3"
      },
      "execution_count": 20,
      "outputs": []
    }
  ]
}