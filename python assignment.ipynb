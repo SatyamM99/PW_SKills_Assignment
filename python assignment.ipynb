{
  "nbformat": 4,
  "nbformat_minor": 0,
  "metadata": {
    "colab": {
      "provenance": []
    },
    "kernelspec": {
      "name": "python3",
      "display_name": "Python 3"
    },
    "language_info": {
      "name": "python"
    }
  },
  "cells": [
    {
      "cell_type": "markdown",
      "source": [
        "1. What is Python, and why is it popular?\n",
        "\n",
        "    Ans- Python is a high-level, interpreted programming language known for its simplicity and readability.\n",
        "\n",
        "    It's widely used due to following reasons:\n",
        "    *   Beginner-Friendly: Its clear, natural-language-like syntax makes it easy to learn.\n",
        "    *   Highly Versatile: Used across many fields like web development, data science, machine learning, and automation (e.g., scripting automation, web scraping, system administration).\n",
        "    *   Rich Ecosystem: Boasts a huge collection of libraries and frameworks that accelerate development.\n",
        "    *   Cross-Platform: Python code runs seamlessly on different operating systems.\n",
        "\n",
        "\n",
        "2. What is an interpreter in Python?\n",
        "\n",
        "  Ans- In Python, an interpreter is a program that reads and executes your Python code directly, line by line.\n",
        "\n",
        "  Instead of translating the entire program into machine code beforehand (like a compiler), it processes and runs each instruction on the fly. This allows for immediate feedback and makes Python development more interactive.\n",
        "\n",
        "\n",
        "3. What are pre-defined keywords in Python?\n",
        "\n",
        "  Ans- In Python, pre-defined keywords (also called reserved words) are special words that have specific meanings and purposes built into the language. We cannot use these words as names for your variables, functions, classes, or any other identifiers, as that would confuse the Python interpreter.\n",
        "\n",
        "  They are fundamental to Python's syntax and define how the language structures code, handles flow control, defines objects, and more.\n",
        "\n",
        "  Examples include: if, else, for, while, def, class, import, True, False, None, and, or, not, etc.\n",
        "\n",
        "\n",
        "4. Can keywords be used as variable names?\n",
        "\n",
        "  Ans- No, keywords cannot be used as variable names in Python. They are reserved by the language for specific functions.\n",
        "\n",
        "\n",
        "5. What is mutability in Python?\n",
        "\n",
        "  Ans- In Python, mutability refers to whether an object's state (its value or contents) can be changed after it has been created.\n",
        "*   Mutable objects can be modified in place. When you change a mutable object, its unique identity (memory address) remains the same. Examples include lists, dictionaries, and sets.\n",
        "*   Immutable objects cannot be changed after they are created. Any operation that seems to \"modify\" an immutable object actually creates a new object with the new value, leaving the original unchanged. Examples include tuples.\n",
        "\n",
        "\n",
        "6. Why are lists mutable, but tuples are immutable?\n",
        "\n",
        "  Ans- The mutability difference between lists and tuples in Python is a fundamental design choice.\n",
        "*   Lists (Mutable):\n",
        "\n",
        "    Designed for changeable sequences.\n",
        "\n",
        "    Ideal for dynamic collections.\n",
        "*   Tuples (Immutable):\n",
        "\n",
        "    Designed for fixed, unchangeable sequences.\n",
        "\n",
        "    Useful for data integrity, dictionary keys, and slight performance/memory benefits."
      ],
      "metadata": {
        "id": "4h6XL7PaibtB"
      }
    },
    {
      "cell_type": "markdown",
      "source": [
        "7. What is the difference between “==” and “is” operators in Python?\n",
        "\n",
        "Ans- == (Equality Operator):\n",
        "\n",
        "1.   Compares the values of two objects.\n",
        "2.   Returns True if the objects have the same content.\n",
        "\n",
        "is (Identity Operator):\n",
        "\n",
        "1.   Compares the memory addresses (identities) of two objects.\n",
        "2.   Returns True if both variables point to the exact same object in memory.\n"
      ],
      "metadata": {
        "id": "Jqen-zQzmPyw"
      }
    },
    {
      "cell_type": "markdown",
      "source": [
        "8. What are logical operators in Python?\n",
        "\n",
        "  Ans- In Python, logical operators (and, or, not) are used to combine conditional statements or Boolean expressions and return a Boolean result (True or False).\n",
        "\n",
        "\n",
        "9. What is type casting in Python\n",
        "\n",
        "  Ans- Type casting (or type conversion) in Python is the process of converting an object from one data type to another.\n",
        "\n",
        "  For example, converting an integer to a float, a float to an integer, or a number to a string, and vice-versa. This is done using built-in functions like int(), float(), str(), list(), tuple(), etc.\n",
        "\n",
        "\n",
        "10. What is the difference between implicit and explicit type casting?\n",
        "\n",
        "  Ans-\n",
        "\n",
        "*   Implicit Type Casting (Coercion): Python automatically converts one data type to another to avoid data loss or make an operation possible (e.g., int to float in 5 + 2.5).\n",
        "*   Explicit Type Casting: You manually convert one data type to another using built-in functions like int(), float(), str(), etc. (e.g., int(\"5\")).\n",
        "\n",
        "\n",
        "\n",
        "11. What is the purpose of conditional statements in Python?\n",
        "\n",
        "  Ans- The purpose of conditional statements (like if, elif, else) in Python is to execute different blocks of code based on whether certain conditions are true or false.\n",
        "\n",
        "  They allow us program to make decisions and follow different paths of execution, providing control flow."
      ],
      "metadata": {
        "id": "FQk5DcqIm754"
      }
    },
    {
      "cell_type": "markdown",
      "source": [
        "12.  How does the elif statement work?\n",
        "\n",
        "  Ans- The elif (short for \"else if\") statement in Python works as an intermediate condition within an if-else chain. elif allows you to test multiple conditions sequentially until one is met.\n",
        "\n",
        "\n",
        "\n",
        "\n",
        "13. What is the difference between for and while loops?\n",
        "\n",
        "  Ans-\n",
        "*   for loop: Used for iterating over a sequence (like a list, tuple, string, or range) or any iterable object. You use it when you know the number of iterations or want to process each item in a collection.\n",
        "*   while loop: Used for repeating a block of code as long as a certain condition is True. You use it when the number of iterations is unknown beforehand and depends on a condition being met.\n"
      ],
      "metadata": {
        "id": "997__w_CoEEo"
      }
    },
    {
      "cell_type": "markdown",
      "source": [
        "14. Describe a scenario where a while loop is more suitable than a for loop.\n",
        "\n",
        "  Ans- A while loop is more suitable when we don't know in advance how many times we need to repeat an action, but rather you need to continue until a specific condition is met.\n",
        "\n",
        "  Scenario: Asking a user for input until they provide valid data.\n",
        "  We don't know how many incorrect attempts the user will make.\n",
        "  The loop needs to continue while the input is invalid."
      ],
      "metadata": {
        "id": "Gbn-H5Lno5hI"
      }
    },
    {
      "cell_type": "code",
      "source": [
        "#Write a Python program to print \"Hello, World!\n",
        "print(\"Hello, World!\")"
      ],
      "metadata": {
        "colab": {
          "base_uri": "https://localhost:8080/"
        },
        "id": "eD02V53fpV1l",
        "outputId": "2685bd56-d591-4150-80a8-c710986282e5"
      },
      "execution_count": 1,
      "outputs": [
        {
          "output_type": "stream",
          "name": "stdout",
          "text": [
            "Hello, World!\n"
          ]
        }
      ]
    },
    {
      "cell_type": "code",
      "source": [
        "#Write a Python program that displays your name and age\n",
        "name = input(\"Enter your name\")\n",
        "age = int(input(\"Enter your age\"))\n",
        "print(f\"Hello, my name is {name} and I am {age} years old.\")"
      ],
      "metadata": {
        "colab": {
          "base_uri": "https://localhost:8080/"
        },
        "id": "6imBpqoEpjQ9",
        "outputId": "268238b3-6a0d-4f25-8ad5-5fbc18e08f4d"
      },
      "execution_count": 2,
      "outputs": [
        {
          "output_type": "stream",
          "name": "stdout",
          "text": [
            "Enter your nameSatyam\n",
            "Enter your age24\n",
            "Hello, my name is Satyam and I am 24 years old.\n"
          ]
        }
      ]
    },
    {
      "cell_type": "code",
      "source": [
        "#Write code to print all the pre-defined keywords in Python using the keyword library\n",
        "import keyword\n",
        "print(keyword.kwlist)"
      ],
      "metadata": {
        "colab": {
          "base_uri": "https://localhost:8080/"
        },
        "id": "O9SIiaYnp9jO",
        "outputId": "ed870120-64f9-4b6a-eeaf-94f2eee1aa02"
      },
      "execution_count": 4,
      "outputs": [
        {
          "output_type": "stream",
          "name": "stdout",
          "text": [
            "['False', 'None', 'True', 'and', 'as', 'assert', 'async', 'await', 'break', 'class', 'continue', 'def', 'del', 'elif', 'else', 'except', 'finally', 'for', 'from', 'global', 'if', 'import', 'in', 'is', 'lambda', 'nonlocal', 'not', 'or', 'pass', 'raise', 'return', 'try', 'while', 'with', 'yield']\n"
          ]
        }
      ]
    },
    {
      "cell_type": "code",
      "source": [
        "#Write a program that checks if a given word is a Python keyword.\n",
        "import keyword\n",
        "\n",
        "word_to_check = input(\"Enter a word to check if it's a Python keyword: \")\n",
        "\n",
        "if word_to_check in keyword.kwlist:\n",
        "    print(f\"'{word_to_check}' IS a Python keyword.\")\n",
        "else:\n",
        "    print(f\"'{word_to_check}' is NOT a Python keyword.\")"
      ],
      "metadata": {
        "colab": {
          "base_uri": "https://localhost:8080/"
        },
        "id": "fvQ-2zwcqOtE",
        "outputId": "c4a5eee3-706d-48de-cef9-06adfe663be3"
      },
      "execution_count": 5,
      "outputs": [
        {
          "output_type": "stream",
          "name": "stdout",
          "text": [
            "Enter a word to check if it's a Python keyword: go\n",
            "'go' is NOT a Python keyword.\n"
          ]
        }
      ]
    },
    {
      "cell_type": "code",
      "source": [
        "#Create a list and tuple in Python, and demonstrate how attempting to change an element works differently for each.\n",
        "my_list = [10, 20, 30, 40]\n",
        "print(f\"Original List: {my_list}\")\n",
        "\n",
        "try:\n",
        "    my_list[1] = 25\n",
        "    print(f\"List after changing element at index 1: {my_list}\")\n",
        "except TypeError as e:\n",
        "    print(f\"Error modifying list: {e}\")\n",
        "print(f\"List ID after modification: {id(my_list)}\")\n",
        "\n",
        "\n",
        "my_tuple = (100, 200, 300, 400)\n",
        "print(f\"\\nOriginal Tuple: {my_tuple}\")\n",
        "print(f\"Tuple ID: {id(my_tuple)}\")\n",
        "\n",
        "try:\n",
        "    my_tuple[1] = 250\n",
        "    print(f\"Tuple after changing element at index 1: {my_tuple}\")\n",
        "except TypeError as e:\n",
        "    print(f\"Error modifying tuple: {e}\")\n",
        "print(f\"Tuple ID after attempted modification: {id(my_tuple)}\")\n"
      ],
      "metadata": {
        "colab": {
          "base_uri": "https://localhost:8080/"
        },
        "id": "Ry9gNRejqpUF",
        "outputId": "715d45c3-1335-4eef-9f4f-3bb7971932c2"
      },
      "execution_count": 6,
      "outputs": [
        {
          "output_type": "stream",
          "name": "stdout",
          "text": [
            "Original List: [10, 20, 30, 40]\n",
            "List after changing element at index 1: [10, 25, 30, 40]\n",
            "List ID after modification: 132830836006080\n",
            "\n",
            "Original Tuple: (100, 200, 300, 400)\n",
            "Tuple ID: 132830419199664\n",
            "Error modifying tuple: 'tuple' object does not support item assignment\n",
            "Tuple ID after attempted modification: 132830419199664\n"
          ]
        }
      ]
    },
    {
      "cell_type": "code",
      "source": [
        "#Write a function to demonstrate the behavior of mutable and immutable arguments.\n",
        "def demonstrate_arguments(mutable_arg, immutable_arg):\n",
        "    print(f\"Inside function - Before modification:\")\n",
        "    print(f\"  Mutable argument (list): {mutable_arg}, ID: {id(mutable_arg)}\")\n",
        "    print(f\"  Immutable argument (integer): {immutable_arg}, ID: {id(immutable_arg)}\")\n",
        "\n",
        "    mutable_arg.append(99)\n",
        "    immutable_arg += 1\n",
        "\n",
        "    print(f\"\\nInside function - After modification:\")\n",
        "    print(f\"  Mutable argument (list): {mutable_arg}, ID: {id(mutable_arg)}\")\n",
        "    print(f\"  Immutable argument (integer): {immutable_arg}, ID: {id(immutable_arg)}\")\n",
        "\n",
        "\n",
        "print(\"--- Demonstrating Function Arguments ---\")\n",
        "list_arg = [1, 2, 3]\n",
        "int_arg = 10\n",
        "\n",
        "print(f\"Before function call:\")\n",
        "print(f\"  Original list: {list_arg}, ID: {id(list_arg)}\")\n",
        "print(f\"  Original integer: {int_arg}, ID: {id(int_arg)}\")\n",
        "\n",
        "demonstrate_arguments(list_arg, int_arg)\n",
        "\n",
        "print(f\"\\nAfter function call:\")\n",
        "print(f\"  Original list (after function): {list_arg}, ID: {id(list_arg)}\")\n",
        "print(f\"  Original integer (after function): {int_arg}, ID: {id(int_arg)}\")"
      ],
      "metadata": {
        "colab": {
          "base_uri": "https://localhost:8080/"
        },
        "id": "P3w31n43q9S0",
        "outputId": "97ca588d-a7c2-42b2-ef2d-1b0bae99dc8c"
      },
      "execution_count": 7,
      "outputs": [
        {
          "output_type": "stream",
          "name": "stdout",
          "text": [
            "--- Demonstrating Function Arguments ---\n",
            "Before function call:\n",
            "  Original list: [1, 2, 3], ID: 132830848868160\n",
            "  Original integer: 10, ID: 10758024\n",
            "Inside function - Before modification:\n",
            "  Mutable argument (list): [1, 2, 3], ID: 132830848868160\n",
            "  Immutable argument (integer): 10, ID: 10758024\n",
            "\n",
            "Inside function - After modification:\n",
            "  Mutable argument (list): [1, 2, 3, 99], ID: 132830848868160\n",
            "  Immutable argument (integer): 11, ID: 10758056\n",
            "\n",
            "After function call:\n",
            "  Original list (after function): [1, 2, 3, 99], ID: 132830848868160\n",
            "  Original integer (after function): 10, ID: 10758024\n"
          ]
        }
      ]
    },
    {
      "cell_type": "code",
      "source": [
        "#Write a program that performs basic arithmetic operations on two user-input numbers.\n",
        "num1 = float(input(\"Enter the first number: \"))\n",
        "num2 = float(input(\"Enter the second number: \"))\n",
        "\n",
        "sum_result = num1 + num2\n",
        "difference_result = num1 - num2\n",
        "product_result = num1 * num2\n",
        "quotient_result = num1 / num2\n",
        "\n",
        "print(f\"Sum: {sum_result}\")\n",
        "print(f\"Difference: {difference_result}\")\n",
        "print(f\"Product: {product_result}\")\n",
        "print(f\"Quotient: {quotient_result}\")"
      ],
      "metadata": {
        "colab": {
          "base_uri": "https://localhost:8080/"
        },
        "id": "xMkq-3LorTdt",
        "outputId": "4cc44438-392d-4aed-f2dc-3b92d9ce6cda"
      },
      "execution_count": 9,
      "outputs": [
        {
          "output_type": "stream",
          "name": "stdout",
          "text": [
            "Enter the first number: 23\n",
            "Enter the second number: 31\n",
            "Sum: 54.0\n",
            "Difference: -8.0\n",
            "Product: 713.0\n",
            "Quotient: 0.7419354838709677\n"
          ]
        }
      ]
    },
    {
      "cell_type": "code",
      "source": [
        "# Write a program to demonstrate the use of logical operators.\n",
        "print(\"--- Logical Operators Demonstration ---\")\n",
        "\n",
        "has_license = True\n",
        "is_of_age = False\n",
        "is_raining = True\n",
        "\n",
        "print(f\"\\nCan drive (has_license AND is_of_age): {has_license and is_of_age}\")\n",
        "\n",
        "print(f\"Should carry umbrella (is_raining OR not has_license): {is_raining or not has_license}\")\n",
        "\n",
        "print(f\"Is not raining (NOT is_raining): {not is_raining}\")\n",
        "\n",
        "can_go_outside = (not is_raining) and has_license\n",
        "print(f\"Can go outside (NOT is_raining AND has_license): {can_go_outside}\")"
      ],
      "metadata": {
        "colab": {
          "base_uri": "https://localhost:8080/"
        },
        "id": "rQxlsdeJriTd",
        "outputId": "3f52ff91-2139-480e-a283-be21b7e1efad"
      },
      "execution_count": 11,
      "outputs": [
        {
          "output_type": "stream",
          "name": "stdout",
          "text": [
            "--- Logical Operators Demonstration ---\n",
            "\n",
            "Can drive (has_license AND is_of_age): False\n",
            "Should carry umbrella (is_raining OR not has_license): True\n",
            "Is not raining (NOT is_raining): False\n",
            "Can go outside (NOT is_raining AND has_license): False\n"
          ]
        }
      ]
    },
    {
      "cell_type": "code",
      "source": [
        "#Write a Python program to convert user input from string to integer, float, and boolean types.\n",
        "user_input = input(\"Enter a value: \")\n",
        "\n",
        "to_int = int(user_input)\n",
        "print(f\"To Integer: {to_int}, Type: {type(to_int)}\")\n",
        "\n",
        "to_float = float(user_input)\n",
        "print(f\"To Float: {to_float}, Type: {type(to_float)}\")\n",
        "\n",
        "to_bool = bool(user_input)\n",
        "print(f\"To Boolean: {to_bool}, Type: {type(to_bool)}\")"
      ],
      "metadata": {
        "colab": {
          "base_uri": "https://localhost:8080/"
        },
        "id": "6Pk3bD8crz91",
        "outputId": "e200c130-9a47-4b9f-a982-819eedc8476f"
      },
      "execution_count": 12,
      "outputs": [
        {
          "output_type": "stream",
          "name": "stdout",
          "text": [
            "Enter a value: 34\n",
            "To Integer: 34, Type: <class 'int'>\n",
            "To Float: 34.0, Type: <class 'float'>\n",
            "To Boolean: True, Type: <class 'bool'>\n"
          ]
        }
      ]
    },
    {
      "cell_type": "code",
      "source": [
        "#Write code to demonstrate type casting with list elements.\n",
        "print(\"--- Type Casting List Elements ---\")\n",
        "\n",
        "original_list_str = [\"10\", \"20\", \"30\"]\n",
        "\n",
        "int_list = []\n",
        "float_list = []\n",
        "bool_list = []\n",
        "\n",
        "for item in original_list_str:\n",
        "    int_list.append(int(item))\n",
        "    float_list.append(float(item))\n",
        "    bool_list.append(bool(item))\n",
        "\n",
        "print(f\"Original List (strings): {original_list_str}\")\n",
        "print(f\"Converted to Integers: {int_list}\")\n",
        "print(f\"Converted to Floats: {float_list}\")\n",
        "print(f\"Converted to Booleans: {bool_list}\")\n"
      ],
      "metadata": {
        "colab": {
          "base_uri": "https://localhost:8080/"
        },
        "id": "Ym-_x55ksO1V",
        "outputId": "fae92b67-26bd-4696-bcff-ccba87c03fbf"
      },
      "execution_count": 13,
      "outputs": [
        {
          "output_type": "stream",
          "name": "stdout",
          "text": [
            "--- Type Casting List Elements ---\n",
            "Original List (strings): ['10', '20', '30']\n",
            "Converted to Integers: [10, 20, 30]\n",
            "Converted to Floats: [10.0, 20.0, 30.0]\n",
            "Converted to Booleans: [True, True, True]\n"
          ]
        }
      ]
    },
    {
      "cell_type": "code",
      "source": [
        "#Write a program that checks if a number is positive, negative, or zero.\n",
        "number = float(input(\"Enter a number: \"))\n",
        "\n",
        "if number > 0:\n",
        "    print(\"The number is positive.\")\n",
        "elif number < 0:\n",
        "    print(\"The number is negative.\")\n",
        "else:\n",
        "    print(\"The number is zero.\")\n"
      ],
      "metadata": {
        "colab": {
          "base_uri": "https://localhost:8080/"
        },
        "id": "8C3W0S4YtG-E",
        "outputId": "366c7f35-942e-4c6a-99ed-e0bd186dd6d7"
      },
      "execution_count": 14,
      "outputs": [
        {
          "output_type": "stream",
          "name": "stdout",
          "text": [
            "Enter a number: 12\n",
            "The number is positive.\n"
          ]
        }
      ]
    },
    {
      "cell_type": "code",
      "source": [
        "number = float(input(\"Enter a number: \"))\n",
        "\n",
        "if number > 0:\n",
        "    print(\"The number is positive.\")\n",
        "elif number < 0:\n",
        "    print(\"The number is negative.\")\n",
        "else:\n",
        "    print(\"The number is zero.\")\n",
        "\n",
        "# Loop to print numbers from 1 to 10\n",
        "print(\"\\n--- Numbers from 1 to 10 ---\")\n",
        "for i in range(1, 11):\n",
        "    print(i)\n"
      ],
      "metadata": {
        "colab": {
          "base_uri": "https://localhost:8080/"
        },
        "id": "-otFV5sLtQo0",
        "outputId": "6295119e-eb40-48cf-d21b-8d5e25ae91c9"
      },
      "execution_count": 15,
      "outputs": [
        {
          "output_type": "stream",
          "name": "stdout",
          "text": [
            "Enter a number: 12\n",
            "The number is positive.\n",
            "\n",
            "--- Numbers from 1 to 10 ---\n",
            "1\n",
            "2\n",
            "3\n",
            "4\n",
            "5\n",
            "6\n",
            "7\n",
            "8\n",
            "9\n",
            "10\n"
          ]
        }
      ]
    },
    {
      "cell_type": "markdown",
      "source": [],
      "metadata": {
        "id": "XLq1BH0sjVI_"
      }
    },
    {
      "cell_type": "code",
      "source": [
        "#Write a Python program to find the sum of all even numbers between 1 and 50\n",
        "number = float(input(\"Enter a number: \"))\n",
        "\n",
        "if number > 0:\n",
        "    print(\"The number is positive.\")\n",
        "elif number < 0:\n",
        "    print(\"The number is negative.\")\n",
        "else:\n",
        "    print(\"The number is zero.\")\n",
        "\n",
        "print(\"\\n--- Numbers from 1 to 10 ---\")\n",
        "for i in range(1, 11):\n",
        "    print(i)\n",
        "\n",
        "print(\"\\n--- Sum of Even Numbers (1 to 50) ---\")\n",
        "even_sum = 0\n",
        "for i in range(2, 51, 2):\n",
        "    even_sum += i\n",
        "print(f\"The sum of even numbers between 1 and 50 is: {even_sum}\")"
      ],
      "metadata": {
        "colab": {
          "base_uri": "https://localhost:8080/"
        },
        "id": "JRhca3_OtYPV",
        "outputId": "48437168-cce8-4e3b-d9e1-ddfb499d56ab"
      },
      "execution_count": 18,
      "outputs": [
        {
          "output_type": "stream",
          "name": "stdout",
          "text": [
            "Enter a number: 11\n",
            "The number is positive.\n",
            "\n",
            "--- Numbers from 1 to 10 ---\n",
            "1\n",
            "2\n",
            "3\n",
            "4\n",
            "5\n",
            "6\n",
            "7\n",
            "8\n",
            "9\n",
            "10\n",
            "\n",
            "--- Sum of Even Numbers (1 to 50) ---\n",
            "The sum of even numbers between 1 and 50 is: 650\n"
          ]
        }
      ]
    },
    {
      "cell_type": "code",
      "source": [
        "#Write a program to reverse a string using a while loop.\n",
        "input_string = input(\"Enter a string to reverse: \")\n",
        "reversed_string = \"\"\n",
        "index = len(input_string) - 1\n",
        "\n",
        "while index >= 0:\n",
        "    reversed_string += input_string[index]\n",
        "    index -= 1\n",
        "\n",
        "print(f\"Original string: {input_string}\")\n",
        "print(f\"Reversed string: {reversed_string}\")"
      ],
      "metadata": {
        "colab": {
          "base_uri": "https://localhost:8080/"
        },
        "id": "L4hSXHFfth11",
        "outputId": "d6eb978e-b3b6-433c-b559-53ba374e32ec"
      },
      "execution_count": 21,
      "outputs": [
        {
          "output_type": "stream",
          "name": "stdout",
          "text": [
            "Enter a string to reverse: sam\n",
            "Original string: sam\n",
            "Reversed string: mas\n"
          ]
        }
      ]
    },
    {
      "cell_type": "code",
      "source": [
        "# Write a Python program to calculate the factorial of a number provided by the user using a while loop.\n",
        "num = int(input(\"Enter a non-negative integer: \"))\n",
        "\n",
        "factorial = 1\n",
        "i = 1\n",
        "\n",
        "if num < 0:\n",
        "    print(\"Factorial does not exist for negative numbers.\")\n",
        "elif num == 0:\n",
        "    print(\"The factorial of 0 is 1.\")\n",
        "else:\n",
        "    while i <= num:\n",
        "        factorial *= i\n",
        "        i += 1\n",
        "    print(f\"The factorial of {num} is {factorial}.\")"
      ],
      "metadata": {
        "colab": {
          "base_uri": "https://localhost:8080/"
        },
        "id": "oMOYziyqt-tF",
        "outputId": "9aa5660e-5e6e-4415-d237-9d64b427d953"
      },
      "execution_count": 22,
      "outputs": [
        {
          "output_type": "stream",
          "name": "stdout",
          "text": [
            "Enter a non-negative integer: 10\n",
            "The factorial of 10 is 3628800.\n"
          ]
        }
      ]
    }
  ]
}