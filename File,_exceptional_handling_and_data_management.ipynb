{
  "nbformat": 4,
  "nbformat_minor": 0,
  "metadata": {
    "colab": {
      "provenance": []
    },
    "kernelspec": {
      "name": "python3",
      "display_name": "Python 3"
    },
    "language_info": {
      "name": "python"
    }
  },
  "cells": [
    {
      "cell_type": "markdown",
      "source": [
        "1 What is the difference between interpreted and compiled languages?\n",
        "\n",
        "Interpreted languages, like Python, execute code line by line using an interpreter. Compiled languages, on the other hand, convert the entire source code into machine code first using a compiler before execution.\n",
        "\n",
        "2 What is exception handling in Python?\n",
        "\n",
        "Exception handling is a mechanism that allows you to manage runtime errors, or exceptions, without crashing the program. It uses try, except, else, and finally blocks to define how the program should react to errors.\n",
        "\n",
        "3 What is the purpose of the finally block in exception handling?\n",
        "\n",
        "The finally block contains code that will always be executed, regardless of whether an exception occurred in the try block or not. It's typically used for cleanup tasks, such as closing files or network connections.\n",
        "\n",
        "4 What is logging in Python?\n",
        "\n",
        "Logging is the practice of recording events that happen while a program is running. It's crucial for debugging, monitoring, and understanding a program's behavior.\n",
        "\n",
        "5 What is the significance of the __del__ method in Python?\n",
        "\n",
        "The __del__ method is a special method called a destructor. It's executed when an object is about to be garbage collected. It can be used for cleanup, but it's rarely necessary due to Python's automatic memory management.\n",
        "\n",
        "6 What is the difference between import and from ... import in Python?\n",
        "\n",
        "import module_name imports the entire module, requiring you to use module_name.function() to access its contents. from module_name import function_name imports only the specified function, allowing you to call it directly as function_name().\n",
        "\n",
        "7 How can you handle multiple exceptions in Python?\n",
        "\n",
        "We can handle multiple exceptions by using several except blocks, each targeting a specific exception type. You can also handle a tuple of exceptions in a single except block, for example: except (ValueError, TypeError):.\n",
        "\n",
        "8 What is the purpose of the with statement when handling files in Python?\n",
        "\n",
        "The with statement ensures that a resource, such as a file, is properly closed after its use, even if an error occurs. This prevents resource leaks and is considered best practice.\n",
        "\n",
        "9 What is the difference between multithreading and multiprocessing?\n",
        "\n",
        "Multithreading runs multiple threads within a single process, sharing the same memory. It's best for I/O-bound tasks. Multiprocessing runs multiple processes, each with its own memory space, making it ideal for CPU-bound tasks.\n",
        "\n",
        "10 What are the advantages of using logging in a program?\n",
        "\n",
        "Logging provides a structured and flexible way to track program execution. It helps in debugging by providing a detailed history of events, and it allows you to filter messages based on their severity.\n",
        "\n",
        "11 What is memory management in Python?\n",
        "\n",
        "Memory management in Python is the process of allocating and deallocating memory for objects. Python handles this automatically through a private heap and a garbage collector.\n",
        "\n",
        "12 What are the basic steps involved in exception handling in Python?\n",
        "\n",
        "The basic steps are:\n",
        "Place the code that might raise an error inside a try block.\n",
        "Use an except block to define how to handle the specific exception if it occurs.\n",
        "Optionally, use else to run code if no exception was raised.\n",
        "Optionally, use finally for cleanup code that always runs.\n",
        "\n",
        "13 Why is memory management important in Python?\n",
        "\n",
        "Efficient memory management is crucial to prevent memory leaks and ensure the program runs smoothly without consuming excessive resources. It also ensures that unused objects are properly deallocated to free up space.\n",
        "\n",
        "14 What is the role of try and except in exception handling?\n",
        "\n",
        "The try block contains the code that is to be tested for errors. The except block catches and handles specific exceptions that are raised within the try block.\n",
        "\n",
        "15 How does Python's garbage collection system work?\n",
        "\n",
        "Python's garbage collection uses two main mechanisms: reference counting, which deallocates an object when its reference count drops to zero, and a generational garbage collector, which handles cycles of references.\n",
        "\n",
        "16 What is the purpose of the else block in exception handling?\n",
        "\n",
        "The else block is executed only if the code in the try block completes successfully without raising any exceptions. It's a good place for code that should only run if the operation succeeded.\n",
        "\n",
        "17 What are the common logging levels in Python?\n",
        "The common logging levels, in increasing order of severity, are: DEBUG, INFO, WARNING, ERROR, and CRITICAL.\n",
        "\n",
        "18 What is the difference between os.fork() and multiprocessing in Python?\n",
        "\n",
        "os.fork() is a low-level, Unix-only function for creating a new process. The multiprocessing module is a higher-level, cross-platform API that provides a more convenient way to manage processes, offering better control and communication between them.\n",
        "\n",
        "19 What is the importance of closing a file in Python?\n",
        "\n",
        "Closing a file is important to release system resources, ensure all data is written to disk, and prevent data corruption.\n",
        "\n",
        "20 What is the difference between file.read() and file.readline() in Python?\n",
        "\n",
        "file.read() reads the entire file content into a single string. file.readline() reads the file one line at a time, making it more memory efficient for large files.\n",
        "\n",
        "21 What is the logging module in Python used for?\n",
        "\n",
        "The logging module is the standard library for creating log messages in Python programs, providing a flexible and powerful way to handle events.\n",
        "\n",
        "22 What is the os module in Python used for in file handling?\n",
        "\n",
        "The os module provides a way to interact with the operating system, which includes tasks like creating, renaming, and deleting files and directories.\n",
        "\n",
        "23 What are the challenges associated with memory management in Python?\n",
        "\n",
        "The primary challenge is managing circular references, where objects refer to each other and their reference counts never drop to zero. The generational garbage collector is designed to handle this.\n",
        "\n",
        "24 How do you raise an exception manually in Python?\n",
        "\n",
        "We can raise an exception manually using the raise keyword, for example: raise ValueError(\"Error message\").\n",
        "\n",
        "25 Why is it important to use multithreading in certain applications?\n",
        "\n",
        "Multithreading is important for I/O-bound applications because it allows the program to perform other tasks while waiting for I/O operations (like network requests or file reads) to complete, thus improving overall performance and responsiveness."
      ],
      "metadata": {
        "id": "596ravSAXhdx"
      }
    },
    {
      "cell_type": "code",
      "source": [
        "# 1 Write to file\n",
        "with open(\"test.txt\", \"w\") as f:\n",
        "  f.write(\"Hello World\")"
      ],
      "metadata": {
        "id": "pfBUhyP3aHKd"
      },
      "execution_count": 2,
      "outputs": []
    },
    {
      "cell_type": "code",
      "source": [
        "# 2 Read file and print lines\n",
        "with open(\"test.txt\", \"r\") as f:\n",
        " for line in f:\n",
        "  print(line.strip())"
      ],
      "metadata": {
        "colab": {
          "base_uri": "https://localhost:8080/"
        },
        "id": "jyOgul7eaaub",
        "outputId": "14611ead-ca27-4f5f-b65f-41aedccfc2fe"
      },
      "execution_count": 3,
      "outputs": [
        {
          "output_type": "stream",
          "name": "stdout",
          "text": [
            "Hello World\n"
          ]
        }
      ]
    },
    {
      "cell_type": "code",
      "source": [
        "# 3 Handle file not found\n",
        "try:\n",
        " with open(\"nofile.txt\", \"r\") as f:\n",
        "  print(f.read())\n",
        "except FileNotFoundError:\n",
        " print(\"File not found\")"
      ],
      "metadata": {
        "colab": {
          "base_uri": "https://localhost:8080/"
        },
        "id": "rqnJM4XOaeYY",
        "outputId": "9455061e-59eb-4f1c-f112-38df7201d69e"
      },
      "execution_count": 4,
      "outputs": [
        {
          "output_type": "stream",
          "name": "stdout",
          "text": [
            "File not found\n"
          ]
        }
      ]
    },
    {
      "cell_type": "code",
      "source": [
        "# 4 Copy file content\n",
        "with open(\"test.txt\", \"r\") as src, open(\"copy.txt\", \"w\") as dest:\n",
        " dest.write(src.read())"
      ],
      "metadata": {
        "id": "q_LwhUjWah4L"
      },
      "execution_count": 5,
      "outputs": []
    },
    {
      "cell_type": "code",
      "source": [
        "# 5 Handle division by zero\n",
        "try:\n",
        " print(5/0)\n",
        "except ZeroDivisionError:\n",
        " print(\"Cannot divide by zero\")"
      ],
      "metadata": {
        "colab": {
          "base_uri": "https://localhost:8080/"
        },
        "id": "1ByE3zgiaoc0",
        "outputId": "63d06df9-be4e-4fb7-9c53-512bd6cc0dd9"
      },
      "execution_count": 6,
      "outputs": [
        {
          "output_type": "stream",
          "name": "stdout",
          "text": [
            "Cannot divide by zero\n"
          ]
        }
      ]
    },
    {
      "cell_type": "code",
      "source": [
        "# 6 Log division error\n",
        "import logging\n",
        "logging.basicConfig(filename=\"error.log\", level=logging.ERROR)\n",
        "try:\n",
        " 5/0\n",
        "except ZeroDivisionError:\n",
        " logging.error(\"Division by zero error\")"
      ],
      "metadata": {
        "colab": {
          "base_uri": "https://localhost:8080/"
        },
        "id": "iv1lv6j3ar1_",
        "outputId": "91dcbf12-5a8e-4527-88cf-5a8e2c903309"
      },
      "execution_count": 7,
      "outputs": [
        {
          "output_type": "stream",
          "name": "stderr",
          "text": [
            "ERROR:root:Division by zero error\n"
          ]
        }
      ]
    },
    {
      "cell_type": "code",
      "source": [
        "# 7 Log INFO, ERROR, WARNING\n",
        "logging.info(\"Info message\")\n",
        "logging.warning(\"Warning message\")\n",
        "logging.error(\"Error message\")"
      ],
      "metadata": {
        "colab": {
          "base_uri": "https://localhost:8080/"
        },
        "id": "JkkrQcFDau2s",
        "outputId": "289051b3-9f78-42de-eb75-7282a7ed388b"
      },
      "execution_count": 8,
      "outputs": [
        {
          "output_type": "stream",
          "name": "stderr",
          "text": [
            "WARNING:root:Warning message\n",
            "ERROR:root:Error message\n"
          ]
        }
      ]
    },
    {
      "cell_type": "code",
      "source": [
        "# 8 Handle file open error\n",
        "try:\n",
        " with open(\"nofile.txt\") as f:\n",
        "  print(f.read())\n",
        "except Exception as e:\n",
        " print(\"Error:\", e)"
      ],
      "metadata": {
        "colab": {
          "base_uri": "https://localhost:8080/"
        },
        "id": "gK5A0ozBayUf",
        "outputId": "1bf304d4-5a56-4d98-c949-806984761b1c"
      },
      "execution_count": 9,
      "outputs": [
        {
          "output_type": "stream",
          "name": "stdout",
          "text": [
            "Error: [Errno 2] No such file or directory: 'nofile.txt'\n"
          ]
        }
      ]
    },
    {
      "cell_type": "code",
      "source": [
        "# 9 Read file to list\n",
        "with open(\"test.txt\") as f:\n",
        " lines = f.readlines()\n",
        "print(lines)"
      ],
      "metadata": {
        "colab": {
          "base_uri": "https://localhost:8080/"
        },
        "id": "kj7liCUCa5KP",
        "outputId": "0ce6bdd1-c449-4872-8c39-e948e6911220"
      },
      "execution_count": 10,
      "outputs": [
        {
          "output_type": "stream",
          "name": "stdout",
          "text": [
            "['Hello World']\n"
          ]
        }
      ]
    },
    {
      "cell_type": "code",
      "source": [
        "# 10 Append to file\n",
        "with open(\"test.txt\", \"a\") as f:\n",
        " f.write(\"\\nNew line\")"
      ],
      "metadata": {
        "id": "yxvn7o26a9mY"
      },
      "execution_count": 11,
      "outputs": []
    },
    {
      "cell_type": "code",
      "source": [
        "# 11 Handle missing dict key\n",
        "data = {\"a\": 1}\n",
        "try:\n",
        " print(data[\"b\"])\n",
        "except KeyError:\n",
        " print(\"Key not found\")"
      ],
      "metadata": {
        "colab": {
          "base_uri": "https://localhost:8080/"
        },
        "id": "0fNclwfhbA03",
        "outputId": "6cd47b8b-3a3a-4ba0-e44e-5b3a26a0c64c"
      },
      "execution_count": 12,
      "outputs": [
        {
          "output_type": "stream",
          "name": "stdout",
          "text": [
            "Key not found\n"
          ]
        }
      ]
    },
    {
      "cell_type": "code",
      "source": [
        "# 12 Multiple except blocks\n",
        "try:\n",
        " x = int(\"abc\")\n",
        "except ValueError:\n",
        " print(\"Value error\")\n",
        "except TypeError:\n",
        " print(\"Type error\")\n"
      ],
      "metadata": {
        "colab": {
          "base_uri": "https://localhost:8080/"
        },
        "id": "q9Iium4IbEyf",
        "outputId": "68d7f7b6-babd-4201-9554-1bf7a111874c"
      },
      "execution_count": 13,
      "outputs": [
        {
          "output_type": "stream",
          "name": "stdout",
          "text": [
            "Value error\n"
          ]
        }
      ]
    },
    {
      "cell_type": "code",
      "source": [
        "# 13 Check file exists\n",
        "import os\n",
        "if os.path.exists(\"test.txt\"):\n",
        " print(\"File exists\")\n"
      ],
      "metadata": {
        "colab": {
          "base_uri": "https://localhost:8080/"
        },
        "id": "xHME0eTybGJY",
        "outputId": "44a9678d-4909-49fb-fa6c-b57254750185"
      },
      "execution_count": 14,
      "outputs": [
        {
          "output_type": "stream",
          "name": "stdout",
          "text": [
            "File exists\n"
          ]
        }
      ]
    },
    {
      "cell_type": "code",
      "source": [
        "# 14 Log info & error\n",
        "logging.info(\"Information message\")\n",
        "logging.error(\"Error message\")"
      ],
      "metadata": {
        "colab": {
          "base_uri": "https://localhost:8080/"
        },
        "id": "S_KBwJAzbIqR",
        "outputId": "11897617-0915-4eea-f803-23b6ec3e736c"
      },
      "execution_count": 15,
      "outputs": [
        {
          "output_type": "stream",
          "name": "stderr",
          "text": [
            "ERROR:root:Error message\n"
          ]
        }
      ]
    },
    {
      "cell_type": "code",
      "source": [
        "# 15 Handle empty file\n",
        "if os.path.getsize(\"test.txt\") == 0:\n",
        " print(\"File is empty\")"
      ],
      "metadata": {
        "id": "6jBOMDUBbLeA"
      },
      "execution_count": 16,
      "outputs": []
    },
    {
      "cell_type": "code",
      "source": [
        "# 16 Memory profiling (simple example)\n",
        "import tracemalloc\n",
        "tracemalloc.start()\n",
        "lst = [i for i in range(1000)]\n",
        "print(tracemalloc.get_traced_memory())\n",
        "tracemalloc.stop()"
      ],
      "metadata": {
        "colab": {
          "base_uri": "https://localhost:8080/"
        },
        "id": "ymYbEdQKbQnc",
        "outputId": "7631589f-a8d0-4ea4-d5d5-215da75bff12"
      },
      "execution_count": 17,
      "outputs": [
        {
          "output_type": "stream",
          "name": "stdout",
          "text": [
            "(33585, 44873)\n"
          ]
        }
      ]
    },
    {
      "cell_type": "code",
      "source": [
        "# 17 Write list to file\n",
        "nums = [1, 2, 3]\n",
        "with open(\"nums.txt\", \"w\") as f:\n",
        " for n in nums:\n",
        "  f.write(str(n) + \"\\n\")"
      ],
      "metadata": {
        "id": "rQBsW-BpbTRC"
      },
      "execution_count": 18,
      "outputs": []
    },
    {
      "cell_type": "code",
      "source": [
        "# 18 Rotating log\n",
        "from logging.handlers import RotatingFileHandler\n",
        "handler = RotatingFileHandler(\"rotating.log\", maxBytes=1024*1024, backupCount=1)\n",
        "logger = logging.getLogger()\n",
        "logger.addHandler(handler)\n",
        "logger.error(\"Test error\")"
      ],
      "metadata": {
        "colab": {
          "base_uri": "https://localhost:8080/"
        },
        "id": "yrszzsb1bWsM",
        "outputId": "f7df0018-9fff-4463-a364-291f6b70c02a"
      },
      "execution_count": 19,
      "outputs": [
        {
          "output_type": "stream",
          "name": "stderr",
          "text": [
            "ERROR:root:Test error\n"
          ]
        }
      ]
    },
    {
      "cell_type": "code",
      "source": [
        "# 19 Handle IndexError & KeyError\n",
        "try:\n",
        " lst = [1]\n",
        " print(lst[5])\n",
        "except IndexError:\n",
        " print(\"Index error\")\n",
        "except KeyError:\n",
        " print(\"Key error\")"
      ],
      "metadata": {
        "colab": {
          "base_uri": "https://localhost:8080/"
        },
        "id": "CTdxoMT5bY7f",
        "outputId": "73a98893-5b9f-4f17-fe42-506a29338621"
      },
      "execution_count": 20,
      "outputs": [
        {
          "output_type": "stream",
          "name": "stdout",
          "text": [
            "Index error\n"
          ]
        }
      ]
    },
    {
      "cell_type": "code",
      "source": [
        "# 20 Read file with context manager\n",
        "with open(\"test.txt\") as f:\n",
        " print(f.read())"
      ],
      "metadata": {
        "colab": {
          "base_uri": "https://localhost:8080/"
        },
        "id": "RmPXYF45bbSt",
        "outputId": "314c95a5-62ca-491a-e0be-ee15401e5e98"
      },
      "execution_count": 21,
      "outputs": [
        {
          "output_type": "stream",
          "name": "stdout",
          "text": [
            "Hello World\n",
            "New line\n"
          ]
        }
      ]
    },
    {
      "cell_type": "code",
      "source": [
        "# 21 Count word occurrences\n",
        "word = \"hello\"\n",
        "count = 0\n",
        "with open(\"test.txt\") as f:\n",
        " for line in f:\n",
        "  count += line.count(word)\n",
        "print(count)"
      ],
      "metadata": {
        "colab": {
          "base_uri": "https://localhost:8080/"
        },
        "id": "_ptpcF2FbfvH",
        "outputId": "142c70ce-418e-4cd9-863f-07319d579154"
      },
      "execution_count": 22,
      "outputs": [
        {
          "output_type": "stream",
          "name": "stdout",
          "text": [
            "0\n"
          ]
        }
      ]
    },
    {
      "cell_type": "code",
      "source": [
        "# 22 Check if file empty\n",
        "if os.path.exists(\"test.txt\") and os.path.getsize(\"test.txt\") == 0:\n",
        "  print(\"File empty\")"
      ],
      "metadata": {
        "id": "mXSeuep5bk-U"
      },
      "execution_count": 23,
      "outputs": []
    },
    {
      "cell_type": "code",
      "source": [
        "# 23 Log error during file handling\n",
        "try:\n",
        " with open(\"nofile.txt\") as f:\n",
        "  pass\n",
        "except Exception as e:\n",
        " logging.error(f\"File handling error: {e}\")"
      ],
      "metadata": {
        "colab": {
          "base_uri": "https://localhost:8080/"
        },
        "id": "3MzGQ6IDbpve",
        "outputId": "4023c58d-02bd-4785-91a5-b78f8999899d"
      },
      "execution_count": 24,
      "outputs": [
        {
          "output_type": "stream",
          "name": "stderr",
          "text": [
            "ERROR:root:File handling error: [Errno 2] No such file or directory: 'nofile.txt'\n"
          ]
        }
      ]
    }
  ]
}