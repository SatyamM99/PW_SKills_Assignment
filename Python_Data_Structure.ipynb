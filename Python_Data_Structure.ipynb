{
  "nbformat": 4,
  "nbformat_minor": 0,
  "metadata": {
    "colab": {
      "provenance": []
    },
    "kernelspec": {
      "name": "python3",
      "display_name": "Python 3"
    },
    "language_info": {
      "name": "python"
    }
  },
  "cells": [
    {
      "cell_type": "markdown",
      "source": [
        "1. What are data structures, and why are they important?\n",
        "\n",
        "  Data structures are ways to organize and store data so it can be accessed and modified efficiently. They're important because they allow programs to manage data effectively, leading to better performance and more scalable solutions.\n",
        "\n",
        "2. Explain the difference between mutable and immutable data types with examples.\n",
        "\n",
        "  Mutable data types can be changed after they're created, meaning you can modify their contents. A list is a great example: you can add or remove elements from it. Immutable types cannot be changed after creation. A string is an example; you can't alter a string directly.\n",
        "\n",
        "3. What are the main differences between lists and tuples in Python?\n",
        "\n",
        "  Lists are mutable, allowing for elements to be added, removed, or changed, and they are defined with square brackets []. Tuples are immutable, meaning their elements cannot be changed once created, and they are defined with parentheses ().\n",
        "\n",
        "4. Describe how dictionaries store data.\n",
        "\n",
        "  Dictionaries store data as key-value pairs. Each unique key is associated with a specific value. The keys must be immutable and are used to quickly access the corresponding values.\n",
        "\n",
        "5. Why might you use a set instead of a list in Python?\n",
        "\n",
        "  We use a set when you need to store a collection of unique items and want to perform operations like membership testing (checking if an item exists) or eliminating duplicates very quickly. Sets are unordered and don't allow duplicate values.\n",
        "\n",
        "6. What is a string in Python, and how is it different from a list?\n",
        "\n",
        "  A string is an immutable sequence of characters. It differs from a list, which is a mutable sequence of items (which can be of different data types). While you can access individual characters in a string like you can elements in a list, you can't change a character in a string.\n",
        "\n",
        "7. How do tuples ensure data integrity in Python?\n",
        "\n",
        "  Because tuples are immutable, once created, their contents cannot be changed. This ensures data integrity by preventing accidental or unauthorized modifications to the data they hold.\n",
        "\n",
        "8. What is a hash table, and how does it relate to dictionaries in Python?\n",
        "\n",
        "  A hash table is a data structure that uses a hash function to map keys to values. Python's dictionaries are implemented using hash tables, which is why they provide very fast access to data.\n",
        "\n",
        "9. Can lists contain different data types in Python?\n",
        "\n",
        "  Yes, lists can contain different data types. A single list can hold integers, strings, floats, and even other lists or dictionaries.\n",
        "\n",
        "10. Explain why strings are immutable in Python.\n",
        "\n",
        "  Strings are immutable to improve efficiency and security. Because a string can't be changed, Python can optimize memory usage and allow for predictable behavior. It also makes them safe to use as dictionary keys.\n",
        "\n",
        "11. What advantages do dictionaries offer over lists for certain tasks?\n",
        "\n",
        "  Dictionaries offer fast lookups and retrieval based on a key, which is more efficient than a list's linear search. They're ideal for storing and accessing data when you have a unique identifier for each item.\n",
        "\n",
        "12. Describe a scenario where using a tuple would be preferable over a list.\n",
        "\n",
        "  A tuple is preferable for storing fixed, related data that shouldn't change, like the coordinates of a point (x, y) or the days of the week. Since the data is constant, the immutability of a tuple prevents accidental changes.\n",
        "\n",
        "13. How do sets handle duplicate values in Python?\n",
        "\n",
        "  Sets automatically eliminate duplicate values. When you add an item to a set that's already present, the set remains unchanged. This is a core feature of sets.\n",
        "\n",
        "14. How does the “in” keyword work differently for lists and dictionaries?\n",
        "\n",
        "  For lists, the in keyword checks for the existence of a value. For dictionaries, it checks for the existence of a key.\n",
        "\n",
        "15. Can you modify the elements of a tuple? Explain why or why not.\n",
        "\n",
        "  No, you cannot modify the elements of a tuple because tuples are an immutable data type. Once a tuple is created, its size and contents are fixed.\n",
        "\n",
        "16. What is a nested dictionary, and give an example of its use case.\n",
        "\n",
        "  A nested dictionary is a dictionary where one or more of the values are themselves dictionaries. A common use case is storing structured, hierarchical data, like a database of students where each student's record is another dictionary.\n",
        "\n",
        "  students = {\"student1\": {\"name\": \"Alice\", \"age\": 20}, \"student2\": {\"name\": \"Bob\",\"age\": 21}}\n",
        "\n",
        "17. Describe the time complexity of accessing elements in a dictionary.\n",
        "\n",
        "  Accessing elements in a dictionary has an average-case time complexity of O(1) (constant time). This is because a hash function is used to calculate the memory address of the value, allowing for very fast retrieval.\n",
        "\n",
        "18. In what situations are lists preferred over dictionaries?\n",
        "\n",
        "  Lists are preferred when the order of elements is important and when you need to store a collection of items that are accessed sequentially by their index.\n",
        "\n",
        "19. Why are dictionaries considered unordered, and how does that affect data retrieval?\n",
        "\n",
        "  Dictionaries are considered unordered because they store data based on a hash value rather than a linear index. This means the order of insertion is not guaranteed to be the order of retrieval, though modern Python versions preserve insertion order. It doesn't affect data retrieval because you access items by their key, not by their position.\n",
        "\n",
        "20. Explain the difference between a list and a dictionary in terms of data retrieval.\n",
        "\n",
        "  In a list, you retrieve data by its integer index (e.g., my_list[0]). In a dictionary, you retrieve data by its key (e.g., my_dict['key']). This makes dictionaries more flexible for accessing data by a meaningful label."
      ],
      "metadata": {
        "id": "efIgJxAVKtkT"
      }
    },
    {
      "cell_type": "code",
      "source": [
        "name = input(\"What is your name?\")\n",
        "print(name)"
      ],
      "metadata": {
        "colab": {
          "base_uri": "https://localhost:8080/"
        },
        "id": "l20Sx4syLeA-",
        "outputId": "c5159063-0c42-4c2e-9d18-f3ba8ffdc02c"
      },
      "execution_count": 4,
      "outputs": [
        {
          "output_type": "stream",
          "name": "stdout",
          "text": [
            "What is your name?Sam\n",
            "Sam\n"
          ]
        }
      ]
    },
    {
      "cell_type": "code",
      "source": [
        "print(len(\"Hello World\"))"
      ],
      "metadata": {
        "colab": {
          "base_uri": "https://localhost:8080/"
        },
        "id": "kUrXhaTxMQPw",
        "outputId": "9467adf7-a065-4835-d9c4-2f7b69e95513"
      },
      "execution_count": 2,
      "outputs": [
        {
          "output_type": "stream",
          "name": "stdout",
          "text": [
            "11\n"
          ]
        }
      ]
    },
    {
      "cell_type": "code",
      "source": [
        "print(\"Python Programming\"[:3])"
      ],
      "metadata": {
        "colab": {
          "base_uri": "https://localhost:8080/"
        },
        "id": "v2HK5e9IMWpZ",
        "outputId": "13db215e-5fa3-460a-fb0b-387862c02b9a"
      },
      "execution_count": 3,
      "outputs": [
        {
          "output_type": "stream",
          "name": "stdout",
          "text": [
            "Pyt\n"
          ]
        }
      ]
    },
    {
      "cell_type": "code",
      "source": [
        "print(\"hello\".upper())"
      ],
      "metadata": {
        "colab": {
          "base_uri": "https://localhost:8080/"
        },
        "id": "OkAgCHpYMjje",
        "outputId": "ea81583f-7742-43f5-97cc-372e1cf4f51a"
      },
      "execution_count": 5,
      "outputs": [
        {
          "output_type": "stream",
          "name": "stdout",
          "text": [
            "HELLO\n"
          ]
        }
      ]
    },
    {
      "cell_type": "code",
      "source": [
        "print(\"I like apple\".replace(\"apple\", \"orange\"))"
      ],
      "metadata": {
        "colab": {
          "base_uri": "https://localhost:8080/"
        },
        "id": "2Oy-O5DSMmP7",
        "outputId": "9453f411-4a4f-4cf5-82df-8d471c8f8876"
      },
      "execution_count": 6,
      "outputs": [
        {
          "output_type": "stream",
          "name": "stdout",
          "text": [
            "I like orange\n"
          ]
        }
      ]
    },
    {
      "cell_type": "code",
      "source": [
        "numbers = [1, 2, 3, 4, 5]\n",
        "print(numbers)"
      ],
      "metadata": {
        "colab": {
          "base_uri": "https://localhost:8080/"
        },
        "id": "m-1bLKvVMol3",
        "outputId": "fa9d0022-4a40-4aa6-f218-f08f37633e5f"
      },
      "execution_count": 7,
      "outputs": [
        {
          "output_type": "stream",
          "name": "stdout",
          "text": [
            "[1, 2, 3, 4, 5]\n"
          ]
        }
      ]
    },
    {
      "cell_type": "code",
      "source": [
        "lst = [1, 2, 3, 4]\n",
        "lst.append(10)\n",
        "print(lst)"
      ],
      "metadata": {
        "colab": {
          "base_uri": "https://localhost:8080/"
        },
        "id": "bnmP-bL4MryL",
        "outputId": "c32dd7c6-644a-4bb2-8a67-6f8236eb30d3"
      },
      "execution_count": 8,
      "outputs": [
        {
          "output_type": "stream",
          "name": "stdout",
          "text": [
            "[1, 2, 3, 4, 10]\n"
          ]
        }
      ]
    },
    {
      "cell_type": "code",
      "source": [
        "lst = [1, 2, 3, 4, 5]\n",
        "lst.remove(3)\n",
        "print(lst)"
      ],
      "metadata": {
        "colab": {
          "base_uri": "https://localhost:8080/"
        },
        "id": "7bYeskjpMu14",
        "outputId": "aebca9e3-ee0d-4972-829d-c6f76c66e166"
      },
      "execution_count": 9,
      "outputs": [
        {
          "output_type": "stream",
          "name": "stdout",
          "text": [
            "[1, 2, 4, 5]\n"
          ]
        }
      ]
    },
    {
      "cell_type": "code",
      "source": [
        "print(['a', 'b', 'c', 'd'][1])"
      ],
      "metadata": {
        "colab": {
          "base_uri": "https://localhost:8080/"
        },
        "id": "1IvA9PdnM0Eb",
        "outputId": "c8da3aef-04f2-4b51-aa8b-a6f002cb769f"
      },
      "execution_count": 10,
      "outputs": [
        {
          "output_type": "stream",
          "name": "stdout",
          "text": [
            "b\n"
          ]
        }
      ]
    },
    {
      "cell_type": "code",
      "source": [
        "lst = [10, 20, 30, 40, 50]\n",
        "lst.reverse()\n",
        "print(lst)"
      ],
      "metadata": {
        "colab": {
          "base_uri": "https://localhost:8080/"
        },
        "id": "Cp---2XnNFo3",
        "outputId": "0f447fc2-df90-4661-cd7d-0af94b511946"
      },
      "execution_count": 11,
      "outputs": [
        {
          "output_type": "stream",
          "name": "stdout",
          "text": [
            "[50, 40, 30, 20, 10]\n"
          ]
        }
      ]
    },
    {
      "cell_type": "code",
      "source": [
        "t = (100, 200, 300)\n",
        "print(t)"
      ],
      "metadata": {
        "colab": {
          "base_uri": "https://localhost:8080/"
        },
        "id": "NntasUjiNGwh",
        "outputId": "38b07894-2d7d-49d8-c498-049eef7f7af2"
      },
      "execution_count": 12,
      "outputs": [
        {
          "output_type": "stream",
          "name": "stdout",
          "text": [
            "(100, 200, 300)\n"
          ]
        }
      ]
    },
    {
      "cell_type": "code",
      "source": [
        "t = ('red', 'green', 'blue', 'yellow')\n",
        "print(t[-2])\n"
      ],
      "metadata": {
        "colab": {
          "base_uri": "https://localhost:8080/"
        },
        "id": "r_7puI8KNKZU",
        "outputId": "3d3e39e7-c99f-4e43-b544-1bff50754edc"
      },
      "execution_count": 14,
      "outputs": [
        {
          "output_type": "stream",
          "name": "stdout",
          "text": [
            "blue\n"
          ]
        }
      ]
    },
    {
      "cell_type": "code",
      "source": [
        "print(min((10, 20, 5, 15)))"
      ],
      "metadata": {
        "colab": {
          "base_uri": "https://localhost:8080/"
        },
        "id": "J3gW0hmqNNaY",
        "outputId": "022f1960-7f72-419a-dd8b-ff1bd2c93b03"
      },
      "execution_count": 15,
      "outputs": [
        {
          "output_type": "stream",
          "name": "stdout",
          "text": [
            "5\n"
          ]
        }
      ]
    },
    {
      "cell_type": "code",
      "source": [
        "print(('dog', 'cat', 'rabbit').index('cat'))"
      ],
      "metadata": {
        "colab": {
          "base_uri": "https://localhost:8080/"
        },
        "id": "cO5A3sm6NVJF",
        "outputId": "5ed4307a-dd7d-463d-a47b-7024876de218"
      },
      "execution_count": 16,
      "outputs": [
        {
          "output_type": "stream",
          "name": "stdout",
          "text": [
            "1\n"
          ]
        }
      ]
    },
    {
      "cell_type": "code",
      "source": [
        "fruits = ('apple', 'banana', 'mango')\n",
        "print(\"kiwi\" in fruits)\n"
      ],
      "metadata": {
        "colab": {
          "base_uri": "https://localhost:8080/"
        },
        "id": "I6E1hzHUNcAe",
        "outputId": "45b2be7d-0520-486c-d53b-8c78953db190"
      },
      "execution_count": 17,
      "outputs": [
        {
          "output_type": "stream",
          "name": "stdout",
          "text": [
            "False\n"
          ]
        }
      ]
    },
    {
      "cell_type": "code",
      "source": [
        "s = {'a', 'b', 'c'}\n",
        "print(s)\n"
      ],
      "metadata": {
        "colab": {
          "base_uri": "https://localhost:8080/"
        },
        "id": "2hFStR05Nefz",
        "outputId": "309cdf27-2e13-46dd-db12-e7d442cd0b92"
      },
      "execution_count": 18,
      "outputs": [
        {
          "output_type": "stream",
          "name": "stdout",
          "text": [
            "{'a', 'b', 'c'}\n"
          ]
        }
      ]
    },
    {
      "cell_type": "code",
      "source": [
        "s = {1, 2, 3, 4, 5}\n",
        "s.clear()\n",
        "print(s)"
      ],
      "metadata": {
        "colab": {
          "base_uri": "https://localhost:8080/"
        },
        "id": "5ut23bN3Ngzb",
        "outputId": "5a88cd73-cef4-4a33-bc5e-c4cc32ad5b83"
      },
      "execution_count": 19,
      "outputs": [
        {
          "output_type": "stream",
          "name": "stdout",
          "text": [
            "set()\n"
          ]
        }
      ]
    },
    {
      "cell_type": "code",
      "source": [
        "s = {1, 2, 3, 4}\n",
        "s.remove(4)\n",
        "print(s)\n"
      ],
      "metadata": {
        "colab": {
          "base_uri": "https://localhost:8080/"
        },
        "id": "7E41XHxGNjRt",
        "outputId": "e3d458b3-8287-4674-9e06-1fd5de2b57c3"
      },
      "execution_count": 20,
      "outputs": [
        {
          "output_type": "stream",
          "name": "stdout",
          "text": [
            "{1, 2, 3}\n"
          ]
        }
      ]
    },
    {
      "cell_type": "code",
      "source": [
        "print({1, 2, 3} | {3, 4, 5})\n"
      ],
      "metadata": {
        "colab": {
          "base_uri": "https://localhost:8080/"
        },
        "id": "TMaAu1qJNl-a",
        "outputId": "55ee1f6f-7c22-4118-dc02-401d062d1ec7"
      },
      "execution_count": 21,
      "outputs": [
        {
          "output_type": "stream",
          "name": "stdout",
          "text": [
            "{1, 2, 3, 4, 5}\n"
          ]
        }
      ]
    },
    {
      "cell_type": "code",
      "source": [
        "print({1, 2, 3} & {2, 3, 4})"
      ],
      "metadata": {
        "colab": {
          "base_uri": "https://localhost:8080/"
        },
        "id": "zr4DZwGwNomc",
        "outputId": "c9e88cbe-66e4-4b31-c835-fc73bc020b1e"
      },
      "execution_count": 22,
      "outputs": [
        {
          "output_type": "stream",
          "name": "stdout",
          "text": [
            "{2, 3}\n"
          ]
        }
      ]
    },
    {
      "cell_type": "code",
      "source": [
        "d = {\"name\": \"John\", \"age\": 25, \"city\": \"NY\"}\n",
        "print(d)\n"
      ],
      "metadata": {
        "colab": {
          "base_uri": "https://localhost:8080/"
        },
        "id": "qA3DZTC5NrCO",
        "outputId": "c768fc19-cdb3-4709-ee57-e1fc6b682427"
      },
      "execution_count": 23,
      "outputs": [
        {
          "output_type": "stream",
          "name": "stdout",
          "text": [
            "{'name': 'John', 'age': 25, 'city': 'NY'}\n"
          ]
        }
      ]
    },
    {
      "cell_type": "code",
      "source": [
        "d = {'name': 'John', 'age': 25}\n",
        "d['country'] = 'USA'\n",
        "print(d)"
      ],
      "metadata": {
        "colab": {
          "base_uri": "https://localhost:8080/"
        },
        "id": "eKPbXV9lNtjB",
        "outputId": "1a3664de-193e-491c-ccf2-32d6b1130dd2"
      },
      "execution_count": 24,
      "outputs": [
        {
          "output_type": "stream",
          "name": "stdout",
          "text": [
            "{'name': 'John', 'age': 25, 'country': 'USA'}\n"
          ]
        }
      ]
    },
    {
      "cell_type": "code",
      "source": [
        "print({'name': 'Alice', 'age': 30}['name'])"
      ],
      "metadata": {
        "colab": {
          "base_uri": "https://localhost:8080/"
        },
        "id": "x4J2LcFWNvii",
        "outputId": "3d455094-8f8f-4d3a-c6eb-b6ace9df031b"
      },
      "execution_count": 25,
      "outputs": [
        {
          "output_type": "stream",
          "name": "stdout",
          "text": [
            "Alice\n"
          ]
        }
      ]
    },
    {
      "cell_type": "code",
      "source": [
        "d = {'name': 'Bob', 'age': 22, 'city': 'New York'}\n",
        "del d['age']\n",
        "print(d)\n"
      ],
      "metadata": {
        "colab": {
          "base_uri": "https://localhost:8080/"
        },
        "id": "7oGnvC4_NxuG",
        "outputId": "182dcc6e-f9e6-4093-ec9b-24cdfa92be90"
      },
      "execution_count": 26,
      "outputs": [
        {
          "output_type": "stream",
          "name": "stdout",
          "text": [
            "{'name': 'Bob', 'city': 'New York'}\n"
          ]
        }
      ]
    },
    {
      "cell_type": "code",
      "source": [
        "print('city' in {'name': 'Alice', 'city': 'Paris'})"
      ],
      "metadata": {
        "colab": {
          "base_uri": "https://localhost:8080/"
        },
        "id": "jCk1TV_fN0li",
        "outputId": "7f0eb683-59e4-4c2e-b3b1-ac40d6d91c41"
      },
      "execution_count": 27,
      "outputs": [
        {
          "output_type": "stream",
          "name": "stdout",
          "text": [
            "True\n"
          ]
        }
      ]
    },
    {
      "cell_type": "code",
      "source": [
        "import random\n",
        "lst = [random.randint(1, 100) for _ in range(5)]\n",
        "lst.sort()\n",
        "print(lst)\n"
      ],
      "metadata": {
        "colab": {
          "base_uri": "https://localhost:8080/"
        },
        "id": "VGA9b0a8N3st",
        "outputId": "277474e2-cc57-42fe-d34d-4f779aaac975"
      },
      "execution_count": 28,
      "outputs": [
        {
          "output_type": "stream",
          "name": "stdout",
          "text": [
            "[34, 44, 60, 63, 69]\n"
          ]
        }
      ]
    },
    {
      "cell_type": "code",
      "source": [
        "lst = [\"apple\", \"banana\", \"cherry\", \"date\"]\n",
        "print(lst[3])"
      ],
      "metadata": {
        "colab": {
          "base_uri": "https://localhost:8080/"
        },
        "id": "yZbXENauN6Id",
        "outputId": "1d7b6822-0078-4c42-a532-16a8e965574d"
      },
      "execution_count": 29,
      "outputs": [
        {
          "output_type": "stream",
          "name": "stdout",
          "text": [
            "date\n"
          ]
        }
      ]
    },
    {
      "cell_type": "code",
      "source": [
        "d1 = {\"a\": 1}\n",
        "d2 = {\"b\": 2}\n",
        "d1.update(d2)\n",
        "print(d1)\n"
      ],
      "metadata": {
        "colab": {
          "base_uri": "https://localhost:8080/"
        },
        "id": "9j7LeGTSN8tN",
        "outputId": "fc9eae11-dbd4-40e3-c699-dd9afbf2f2ef"
      },
      "execution_count": 30,
      "outputs": [
        {
          "output_type": "stream",
          "name": "stdout",
          "text": [
            "{'a': 1, 'b': 2}\n"
          ]
        }
      ]
    },
    {
      "cell_type": "code",
      "source": [
        "print(set([\"apple\", \"banana\", \"apple\"]))"
      ],
      "metadata": {
        "colab": {
          "base_uri": "https://localhost:8080/"
        },
        "id": "kjw01e1mOCMD",
        "outputId": "d049dba4-b50d-4e2d-8ccb-c5b49f8f40a2"
      },
      "execution_count": 31,
      "outputs": [
        {
          "output_type": "stream",
          "name": "stdout",
          "text": [
            "{'apple', 'banana'}\n"
          ]
        }
      ]
    }
  ]
}